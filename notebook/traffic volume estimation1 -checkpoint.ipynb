{
 "cells": [
  {
   "cell_type": "code",
   "execution_count": null,
   "id": "feec45f8-da93-42c5-89c1-4b30c4c3d539",
   "metadata": {},
   "outputs": [],
   "source": [
    "import pandas as pd\n",
    "import numpy as np\n",
    "import seaborn as sns\n",
    "import sklearn as sk\n",
    "from sklearn import linear_model\n",
    "from sklearn import tree\n",
    "from sklearn import ensemble\n",
    "from sklearn import svm"
   ]
  },
  {
   "cell_type": "code",
   "execution_count": null,
   "id": "064c4c1b-82f6-4615-9fca-ead853e989ef",
   "metadata": {},
   "outputs": [],
   "source": [
    "data=pd.read_csv(r\"../traffic volume.csv\")"
   ]
  },
  {
   "cell_type": "code",
   "execution_count": null,
   "id": "a06a0d77-b262-4814-9e2b-efcf072bbb51",
   "metadata": {},
   "outputs": [],
   "source": [
    "data.head()"
   ]
  },
  {
   "cell_type": "code",
   "execution_count": null,
   "id": "385e7dca-501a-4dc8-855c-910d66adb431",
   "metadata": {},
   "outputs": [],
   "source": [
    "data.describe()"
   ]
  },
  {
   "cell_type": "code",
   "execution_count": null,
   "id": "db8f3992-e004-463e-b877-e9555f20a6f2",
   "metadata": {},
   "outputs": [],
   "source": [
    "data.info()"
   ]
  },
  {
   "cell_type": "code",
   "execution_count": null,
   "id": "dbad1d77-5c8a-41eb-b94a-c3b1bd10cc09",
   "metadata": {},
   "outputs": [],
   "source": [
    "data.isnull().sum()"
   ]
  },
  {
   "cell_type": "code",
   "execution_count": null,
   "id": "99896f28-fbda-4f47-81a1-c20f380318a8",
   "metadata": {},
   "outputs": [],
   "source": [
    "data['temp'] = data['temp'].fillna(data['temp'].mean())\n",
    "data['rain'] = data['rain'].fillna(data['rain'].mean())\n",
    "data['snow'] = data['snow'].fillna(data['snow'].mean())"
   ]
  },
  {
   "cell_type": "code",
   "execution_count": null,
   "id": "d9b6689c-ed5a-4d0c-b36a-4587bac9ff5d",
   "metadata": {},
   "outputs": [],
   "source": [
    "from collections import Counter"
   ]
  },
  {
   "cell_type": "code",
   "execution_count": null,
   "id": "4a97162f-4b93-4d64-af52-a2c2b6f47d47",
   "metadata": {},
   "outputs": [],
   "source": [
    "print(Counter(data['weather']))"
   ]
  },
  {
   "cell_type": "code",
   "execution_count": null,
   "id": "22e58c70-d795-4808-bb19-9424e0f2f314",
   "metadata": {},
   "outputs": [],
   "source": [
    "data['weather'] = data['weather'].fillna('Clouds')\n"
   ]
  },
  {
   "cell_type": "code",
   "execution_count": null,
   "id": "ab8356a3-23da-4b8c-9b72-775c4c55dc3e",
   "metadata": {},
   "outputs": [],
   "source": [
    "data.isnull().sum()"
   ]
  },
  {
   "cell_type": "code",
   "execution_count": null,
   "id": "f9b25b43-7f38-4cc4-8241-48dcf22a4c47",
   "metadata": {},
   "outputs": [],
   "source": [
    "from sklearn.preprocessing import LabelEncoder"
   ]
  },
  {
   "cell_type": "code",
   "execution_count": null,
   "id": "79833c25-a85c-479c-b0ed-de7f125f5d26",
   "metadata": {},
   "outputs": [],
   "source": [
    "le = LabelEncoder()"
   ]
  },
  {
   "cell_type": "code",
   "execution_count": null,
   "id": "a94cbf05-5465-4ffb-bb79-f231ec90f2be",
   "metadata": {},
   "outputs": [],
   "source": [
    "data['weather'] = le.fit_transform(data['weather'])"
   ]
  },
  {
   "cell_type": "code",
   "execution_count": null,
   "id": "68f36e09-393c-4810-82df-dd7c3ba040bf",
   "metadata": {},
   "outputs": [],
   "source": [
    "data['holiday'] = le.fit_transform(data['holiday'])"
   ]
  },
  {
   "cell_type": "code",
   "execution_count": null,
   "id": "86ee6ae4-a4c6-42eb-be34-268c6f734758",
   "metadata": {},
   "outputs": [],
   "source": [
    "import matplotlib.pyplot as plt"
   ]
  },
  {
   "cell_type": "code",
   "execution_count": null,
   "id": "4be286bb-e03e-4853-a904-1639e1483e93",
   "metadata": {},
   "outputs": [],
   "source": [
    "data.select_dtypes(include='number').corr()"
   ]
  },
  {
   "cell_type": "code",
   "execution_count": null,
   "id": "e59bf3f9-e849-405c-8c3f-7daea5abdba2",
   "metadata": {},
   "outputs": [],
   "source": [
    "data.head()"
   ]
  },
  {
   "cell_type": "code",
   "execution_count": null,
   "id": "2da505c5-d178-4ab7-908f-710ed4eb7642",
   "metadata": {},
   "outputs": [],
   "source": [
    "sns.pairplot(data)"
   ]
  },
  {
   "cell_type": "code",
   "execution_count": null,
   "id": "a71d341f-6c98-401a-9249-374eac598451",
   "metadata": {},
   "outputs": [],
   "source": [
    "data.boxplot()"
   ]
  },
  {
   "cell_type": "code",
   "execution_count": null,
   "id": "e66c6843-fbdb-4573-8664-c439352a4124",
   "metadata": {},
   "outputs": [],
   "source": [
    "data.select_dtypes(include='number').corr()"
   ]
  },
  {
   "cell_type": "code",
   "execution_count": null,
   "id": "f3d7d507-e098-4446-ad65-84949a36d8f2",
   "metadata": {},
   "outputs": [],
   "source": [
    "data[[\"day\",\"month\",\"year\"]] = data[\"date\"].str.split(\"-\", expand = True)"
   ]
  },
  {
   "cell_type": "code",
   "execution_count": null,
   "id": "dbb1d208-6e51-4815-bcc9-c32fa5a535a7",
   "metadata": {},
   "outputs": [],
   "source": [
    "data[[\"hours\", \"minutes\", \"seconds\"]] = data[\"Time\"].str.split(\":\", expand = True)"
   ]
  },
  {
   "cell_type": "code",
   "execution_count": null,
   "id": "07d91935-22fe-43d8-ad37-8e58c7f90488",
   "metadata": {},
   "outputs": [],
   "source": [
    "data.drop(columns=['date','Time'],axis=1,inplace=True)"
   ]
  },
  {
   "cell_type": "code",
   "execution_count": null,
   "id": "630826ad-7eb3-4609-be35-5fd3916a20da",
   "metadata": {},
   "outputs": [],
   "source": [
    "data.head()"
   ]
  },
  {
   "cell_type": "code",
   "execution_count": null,
   "id": "5ac9276f-6689-41e9-859d-268ed2d8d3bb",
   "metadata": {},
   "outputs": [],
   "source": [
    "y = data['traffic_volume']\n",
    "x = data.drop(columns=['traffic_volume'],axis=1)"
   ]
  },
  {
   "cell_type": "code",
   "execution_count": null,
   "id": "18cfa19f-21a4-4329-882e-34db6d49c886",
   "metadata": {},
   "outputs": [],
   "source": [
    "names = x.columns"
   ]
  },
  {
   "cell_type": "code",
   "execution_count": null,
   "id": "63df0860-88dc-4510-929e-c3fe4c7f05dc",
   "metadata": {},
   "outputs": [],
   "source": [
    "from sklearn.preprocessing import scale"
   ]
  },
  {
   "cell_type": "code",
   "execution_count": null,
   "id": "018bbaa8-c259-4a5f-acf9-f26a0ceb3e08",
   "metadata": {},
   "outputs": [],
   "source": [
    "x = scale(x)"
   ]
  },
  {
   "cell_type": "code",
   "execution_count": null,
   "id": "765b716d-a383-4450-bcdd-a6bc63fc8aea",
   "metadata": {},
   "outputs": [],
   "source": [
    "x = pd.DataFrame(x,columns=names)"
   ]
  },
  {
   "cell_type": "code",
   "execution_count": null,
   "id": "25f0e8bc-d395-4fd8-8db9-b599469cca45",
   "metadata": {},
   "outputs": [],
   "source": [
    "x.head()"
   ]
  },
  {
   "cell_type": "code",
   "execution_count": null,
   "id": "37f5643d-a763-4b14-b7bf-560db7b4b8da",
   "metadata": {},
   "outputs": [],
   "source": [
    "from sklearn.model_selection import train_test_split"
   ]
  },
  {
   "cell_type": "code",
   "execution_count": null,
   "id": "05e37c19-0c5e-4476-b005-9b7bc519590c",
   "metadata": {},
   "outputs": [],
   "source": [
    "x_train,x_test,y_train,y_test = train_test_split(x,y,test_size=0.2,random_state =0)"
   ]
  },
  {
   "cell_type": "code",
   "execution_count": null,
   "id": "8789631a-134f-416b-9c9d-da8e8c8708cf",
   "metadata": {},
   "outputs": [],
   "source": [
    "from sklearn import linear_model\n",
    "from sklearn import tree\n",
    "from sklearn import ensemble\n",
    "from sklearn import svm\n",
    "import xgboost"
   ]
  },
  {
   "cell_type": "code",
   "execution_count": null,
   "id": "017db2c3-355b-4aef-b191-845c3a9ef5ea",
   "metadata": {},
   "outputs": [],
   "source": [
    "lin_reg = linear_model.LinearRegression()\n",
    "Dtree = tree.DecisionTreeRegressor()\n",
    "Rand = ensemble.RandomForestRegressor()\n",
    "svr = svm.SVR()\n",
    "XGB = xgboost.XGBRegressor()"
   ]
  },
  {
   "cell_type": "code",
   "execution_count": null,
   "id": "4a947ee0-1c27-423a-8505-5131b59a109f",
   "metadata": {},
   "outputs": [],
   "source": [
    "lin_reg.fit(x_train,y_train)\n",
    "Dtree.fit(x_train,y_train)\n",
    "Rand.fit(x_train,y_train)\n",
    "svr.fit(x_train,y_train)\n",
    "XGB.fit(x_train,y_train)"
   ]
  },
  {
   "cell_type": "code",
   "execution_count": null,
   "id": "6b094c7f-ab49-4ddb-85f7-f7c65a1f9240",
   "metadata": {},
   "outputs": [],
   "source": [
    "p1 = lin_reg.predict(x_train)\n",
    "p2 = Dtree.predict(x_train)\n",
    "p3 = Rand.predict(x_train)\n",
    "p4 = svr.predict(x_train)\n",
    "p5 = XGB.predict(x_train)"
   ]
  },
  {
   "cell_type": "code",
   "execution_count": null,
   "id": "1728d994-a3ba-4bb8-a091-1bc9b60c5894",
   "metadata": {},
   "outputs": [],
   "source": [
    "from sklearn import metrics"
   ]
  },
  {
   "cell_type": "code",
   "execution_count": null,
   "id": "5e6d2128-9072-4112-9269-4bf5eec963a2",
   "metadata": {},
   "outputs": [],
   "source": [
    "print(metrics.r2_score(p1,y_train))\n",
    "print(metrics.r2_score(p2,y_train))\n",
    "print(metrics.r2_score(p3,y_train))\n",
    "print(metrics.r2_score(p4,y_train))\n",
    "print(metrics.r2_score(p5,y_train))"
   ]
  },
  {
   "cell_type": "code",
   "execution_count": null,
   "id": "8a33b132-8e5b-4fd6-841b-200bad047009",
   "metadata": {},
   "outputs": [],
   "source": [
    "p1 = lin_reg.predict(x_test)\n",
    "p2 = Dtree.predict(x_test)\n",
    "p3 = Rand.predict(x_test)\n",
    "p4 = svr.predict(x_test)\n",
    "p5 = XGB.predict(x_test)"
   ]
  },
  {
   "cell_type": "code",
   "execution_count": null,
   "id": "0facef0f-3e98-49fa-a401-648556f57529",
   "metadata": {},
   "outputs": [],
   "source": [
    "print(metrics.r2_score(p1,y_test))\n",
    "print(metrics.r2_score(p2,y_test))\n",
    "print(metrics.r2_score(p3,y_test))\n",
    "print(metrics.r2_score(p4,y_test))\n",
    "print(metrics.r2_score(p5,y_test))"
   ]
  },
  {
   "cell_type": "code",
   "execution_count": null,
   "id": "a9fd2cb0-11eb-430d-9bf7-d60634e1ac9c",
   "metadata": {},
   "outputs": [],
   "source": [
    "MSE = metrics.mean_squared_error(p3,y_test)"
   ]
  },
  {
   "cell_type": "code",
   "execution_count": null,
   "id": "fd6eb646-ef05-477b-af8c-d3bcded3ed45",
   "metadata": {},
   "outputs": [],
   "source": [
    "np.sqrt(MSE)"
   ]
  },
  {
   "cell_type": "code",
   "execution_count": null,
   "id": "04f27080-9074-4839-846b-b6ada8030034",
   "metadata": {},
   "outputs": [],
   "source": [
    "import pickle"
   ]
  },
  {
   "cell_type": "code",
   "execution_count": null,
   "id": "e1fc1f45-1dfb-4f53-8d13-339f0c168672",
   "metadata": {},
   "outputs": [],
   "source": [
    "pickle.dump(Rand,open(\"../model.pkl\",'wb'))\n",
    "pickle.dump(le,open(\"../encoder.pkl\",'wb'))"
   ]
  }
 ],
 "metadata": {
  "kernelspec": {
   "display_name": ".myenv",
   "language": "python",
   "name": "python3"
  },
  "language_info": {
   "codemirror_mode": {
    "name": "ipython",
    "version": 3
   },
   "file_extension": ".py",
   "mimetype": "text/x-python",
   "name": "python",
   "nbconvert_exporter": "python",
   "pygments_lexer": "ipython3",
   "version": "3.13.3"
  }
 },
 "nbformat": 4,
 "nbformat_minor": 5
}
